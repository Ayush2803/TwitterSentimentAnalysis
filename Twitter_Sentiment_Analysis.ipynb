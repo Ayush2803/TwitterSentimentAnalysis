{
  "nbformat": 4,
  "nbformat_minor": 0,
  "metadata": {
    "colab": {
      "name": "Twitter Sentiment Analysis.ipynb",
      "provenance": [],
      "collapsed_sections": []
    },
    "kernelspec": {
      "name": "python3",
      "display_name": "Python 3"
    },
    "language_info": {
      "name": "python"
    }
  },
  "cells": [
    {
      "cell_type": "markdown",
      "metadata": {
        "id": "b1LcYM528-Wx"
      },
      "source": [
        "#Twitter Sentiment Analysis\n",
        "\n",
        "Uses Naive Bayes Classifier. \n",
        "TextBlob library- with inbuilt Naive Bayes Classifier"
      ]
    },
    {
      "cell_type": "code",
      "metadata": {
        "id": "RSyWGoK6yosT"
      },
      "source": [
        "# Minor Project\n",
        "# AYUSH SHARMA\n",
        "# 2K19/SE/027"
      ],
      "execution_count": 86,
      "outputs": []
    },
    {
      "cell_type": "code",
      "metadata": {
        "id": "nS4TBVEb1PeA"
      },
      "source": [
        "# Description: Sentiment analysis on tweets parsed directly from live Twitter feed"
      ],
      "execution_count": null,
      "outputs": []
    },
    {
      "cell_type": "markdown",
      "metadata": {
        "id": "Lvn9ygVjpYmX"
      },
      "source": [
        "#Import Libraries and Define Functions"
      ]
    },
    {
      "cell_type": "code",
      "metadata": {
        "id": "acZwNSv81ra4"
      },
      "source": [
        "import pandas as pd\n",
        "import tweepy\n",
        "from textblob import TextBlob\n",
        "from wordcloud import WordCloud\n",
        "import numpy as np\n",
        "import re\n",
        "import matplotlib.pyplot as plt\n",
        "plt.style.use('fivethirtyeight')\n",
        "import os"
      ],
      "execution_count": null,
      "outputs": []
    },
    {
      "cell_type": "code",
      "metadata": {
        "id": "-Hq9gE3qjrJK"
      },
      "source": [
        "clearConsole = lambda: os.system('cls' if os.name in ('nt', 'dos') else 'clear')"
      ],
      "execution_count": null,
      "outputs": []
    },
    {
      "cell_type": "code",
      "metadata": {
        "id": "aJTVpTKGl5aE"
      },
      "source": [
        "# Function to clean the tweets text\n",
        "# Uses Regular Expressions (re) library\n",
        "\n",
        "def cleanText(text):\n",
        "  text= re.sub(r'@[A-Za-z0-9]+', '', text)  #Removes @ mentions\n",
        "  text=re.sub(r'#', '', text)               #Removes hash tags\n",
        "  text=re.sub(r'RT[\\s]+', '', text)         #Remove Re tweet symbol\n",
        "  text=re.sub(r'https?:\\/\\/\\S+', '', text)  #Removes any hyperlinks from the tweet\n",
        "\n",
        "  return text"
      ],
      "execution_count": null,
      "outputs": []
    },
    {
      "cell_type": "code",
      "metadata": {
        "id": "0gWUCZDNovW1"
      },
      "source": [
        "#Function to calculate subjectivity of a tweet\n",
        "#Using TextBlob\n",
        "\n",
        "def getSubjectivity(text):\n",
        "  return TextBlob(text).sentiment.subjectivity"
      ],
      "execution_count": null,
      "outputs": []
    },
    {
      "cell_type": "code",
      "metadata": {
        "id": "h1oARF0Eo9gR"
      },
      "source": [
        "#Function to calculate polarity of a tweet\n",
        "#using TextBlob\n",
        "\n",
        "def getPolarity(text):\n",
        "  return TextBlob(text).sentiment.polarity"
      ],
      "execution_count": null,
      "outputs": []
    },
    {
      "cell_type": "code",
      "metadata": {
        "id": "54WwpmvUvT-y"
      },
      "source": [
        "#Analyse\n",
        "\n",
        "def getAnalysis(score):\n",
        "  if score<0:\n",
        "    return 'Negative'\n",
        "  elif score==0:\n",
        "    return 'Neutral'\n",
        "  else:\n",
        "    return 'Positive'"
      ],
      "execution_count": null,
      "outputs": []
    },
    {
      "cell_type": "code",
      "metadata": {
        "id": "AWimBEMf6_JS"
      },
      "source": [
        "# Rumour Detection\n",
        "def fact_opinion(score, t1=0.25, t2=0.75):\n",
        "  if score<t1:\n",
        "    return 'Fact'\n",
        "  elif score<t2:\n",
        "    return 'Neutral'\n",
        "  else:\n",
        "    return 'Opinion'"
      ],
      "execution_count": null,
      "outputs": []
    },
    {
      "cell_type": "markdown",
      "metadata": {
        "id": "R_C3YFzUpUsq"
      },
      "source": [
        "#Twiiter Authentication"
      ]
    },
    {
      "cell_type": "code",
      "metadata": {
        "id": "gnyis9mC2C_b"
      },
      "source": [
        "# Twitter API credentials\n",
        "# Which are secret so I can't reveal them\n",
        "# Hence I will upload them from csv file I made\n",
        "cred= pd.read_csv('credentials.csv')"
      ],
      "execution_count": null,
      "outputs": []
    },
    {
      "cell_type": "code",
      "metadata": {
        "id": "dSz3X-5F_tTF"
      },
      "source": [
        "ck = cred['consumer_key'][0]\n",
        "cs = cred['consumer_secret'][0]\n",
        "ak = cred['access_key'][0]\n",
        "as_ = cred['access_secret'][0]"
      ],
      "execution_count": null,
      "outputs": []
    },
    {
      "cell_type": "code",
      "metadata": {
        "id": "H_hkGH4TADLw"
      },
      "source": [
        "# Authenticate\n",
        "auth = tweepy.OAuthHandler(ck,cs)\n",
        "\n",
        "# Access \n",
        "auth.set_access_token(ak, as_)\n",
        "\n",
        "#API\n",
        "api= tweepy.API(auth, wait_on_rate_limit=True)"
      ],
      "execution_count": null,
      "outputs": []
    },
    {
      "cell_type": "markdown",
      "metadata": {
        "id": "4fUDT-Uipd41"
      },
      "source": [
        "#Gather Tweets"
      ]
    },
    {
      "cell_type": "code",
      "metadata": {
        "id": "KYf5YvyyB2k4"
      },
      "source": [
        "#Initialise the posts array\n",
        "num_posts=500   #Number of tweets you want to extract\n",
        "posts=[]"
      ],
      "execution_count": 87,
      "outputs": []
    },
    {
      "cell_type": "code",
      "metadata": {
        "id": "M-Dv5CoEEOJz"
      },
      "source": [
        "# Listener Object\n",
        "\n",
        "class Listener (tweepy.StreamListener):\n",
        "\n",
        "  def on_status(self, status):\n",
        "    global num_posts\n",
        "    if num_posts>0:\n",
        "      posts.append(status.text)\n",
        "      num_posts-=1\n",
        "    \n",
        "    else:\n",
        "      print(\"Collected desired number of posts\")\n",
        "      return False\n",
        "\n",
        "  def on_error(self, status_code):\n",
        "    if status_code == 420:\n",
        "      return False\n"
      ],
      "execution_count": 88,
      "outputs": []
    },
    {
      "cell_type": "code",
      "metadata": {
        "id": "ulnfMBkBEyLE"
      },
      "source": [
        "listener_= Listener()\n",
        "\n",
        "myStream = tweepy.Stream(auth = api.auth, listener=listener_)"
      ],
      "execution_count": 89,
      "outputs": []
    },
    {
      "cell_type": "code",
      "metadata": {
        "id": "3Duhs4ijFEhS",
        "colab": {
          "base_uri": "https://localhost:8080/",
          "height": 0
        },
        "outputId": "345f41a8-dbfa-4632-97c5-5469d972307e"
      },
      "source": [
        "myStream.filter(track=['Indian Cricket Team', 'Cricket', 'World Cup', 'T20', 'Virat Kohli', 'Rohit Sharma', \n",
        "                       'Jasprit Bumrah', 'Ind vs NZ', 'Ind vs Pak', 'India vs New Zealand', 'India vs Pakistan', 'Test match'], languages=['en'])"
      ],
      "execution_count": 90,
      "outputs": [
        {
          "output_type": "stream",
          "name": "stdout",
          "text": [
            "Collected desired number of posts\n"
          ]
        }
      ]
    },
    {
      "cell_type": "code",
      "metadata": {
        "colab": {
          "base_uri": "https://localhost:8080/",
          "height": 0
        },
        "id": "XlZA8gXLFW93",
        "outputId": "91be946a-a930-49f9-e469-e53d3d680ff7"
      },
      "source": [
        "len(posts)"
      ],
      "execution_count": 91,
      "outputs": [
        {
          "output_type": "execute_result",
          "data": {
            "text/plain": [
              "500"
            ]
          },
          "metadata": {},
          "execution_count": 91
        }
      ]
    },
    {
      "cell_type": "code",
      "metadata": {
        "colab": {
          "base_uri": "https://localhost:8080/",
          "height": 0
        },
        "id": "yEf51PyXFr17",
        "outputId": "a031ed46-f91f-4e1a-d864-5a5c66315b91"
      },
      "source": [
        "for tweet in posts[0:5]:\n",
        "  print(tweet+'\\n')"
      ],
      "execution_count": 92,
      "outputs": [
        {
          "output_type": "stream",
          "name": "stdout",
          "text": [
            "Only one makes it through to The Final... who ya got?\n",
            "\n",
            "Adelaide, you won't wanna miss this! Get your tickets now 🎟… https://t.co/U20UM43M5A\n",
            "\n",
            "RT @WasimJaffer14: Warne won 1 World Cup.\n",
            "Warner won 2 World Cups.\n",
            "Looking forward to seeing an Aussie kid named Warnest win 3 World Cups.…\n",
            "\n",
            "RT @man4_cricket: Rohit Sharma moves to Number 13 position in the latest ICC T20I Batting Rankings.\n",
            "\n",
            "16 is the number of teams that qualified for the finals of the FIFA World Cup from 1934 through 1978 (although for… https://t.co/IPhOST20fM\n",
            "\n",
            "A special coaching event organised by @GlamCricket and @CricketWales held at Rydal Penrhos was hailed as a tremendo… https://t.co/OyGudckkEw\n",
            "\n"
          ]
        }
      ]
    },
    {
      "cell_type": "code",
      "metadata": {
        "id": "x6f-0T1YGEVi",
        "colab": {
          "base_uri": "https://localhost:8080/",
          "height": 206
        },
        "outputId": "c68d9353-8e94-4799-d4c0-ed9188562f18"
      },
      "source": [
        "df = pd.DataFrame([tweet for tweet in posts], columns=['Tweets'])\n",
        "df.head()"
      ],
      "execution_count": 93,
      "outputs": [
        {
          "output_type": "execute_result",
          "data": {
            "text/html": [
              "<div>\n",
              "<style scoped>\n",
              "    .dataframe tbody tr th:only-of-type {\n",
              "        vertical-align: middle;\n",
              "    }\n",
              "\n",
              "    .dataframe tbody tr th {\n",
              "        vertical-align: top;\n",
              "    }\n",
              "\n",
              "    .dataframe thead th {\n",
              "        text-align: right;\n",
              "    }\n",
              "</style>\n",
              "<table border=\"1\" class=\"dataframe\">\n",
              "  <thead>\n",
              "    <tr style=\"text-align: right;\">\n",
              "      <th></th>\n",
              "      <th>Tweets</th>\n",
              "    </tr>\n",
              "  </thead>\n",
              "  <tbody>\n",
              "    <tr>\n",
              "      <th>0</th>\n",
              "      <td>Only one makes it through to The Final... who ...</td>\n",
              "    </tr>\n",
              "    <tr>\n",
              "      <th>1</th>\n",
              "      <td>RT @WasimJaffer14: Warne won 1 World Cup.\\nWar...</td>\n",
              "    </tr>\n",
              "    <tr>\n",
              "      <th>2</th>\n",
              "      <td>RT @man4_cricket: Rohit Sharma moves to Number...</td>\n",
              "    </tr>\n",
              "    <tr>\n",
              "      <th>3</th>\n",
              "      <td>16 is the number of teams that qualified for t...</td>\n",
              "    </tr>\n",
              "    <tr>\n",
              "      <th>4</th>\n",
              "      <td>A special coaching event organised by @GlamCri...</td>\n",
              "    </tr>\n",
              "  </tbody>\n",
              "</table>\n",
              "</div>"
            ],
            "text/plain": [
              "                                              Tweets\n",
              "0  Only one makes it through to The Final... who ...\n",
              "1  RT @WasimJaffer14: Warne won 1 World Cup.\\nWar...\n",
              "2  RT @man4_cricket: Rohit Sharma moves to Number...\n",
              "3  16 is the number of teams that qualified for t...\n",
              "4  A special coaching event organised by @GlamCri..."
            ]
          },
          "metadata": {},
          "execution_count": 93
        }
      ]
    },
    {
      "cell_type": "code",
      "metadata": {
        "id": "bTHsIQXVsIjB"
      },
      "source": [
        "df.to_csv('tweets_posts.csv')"
      ],
      "execution_count": 94,
      "outputs": []
    },
    {
      "cell_type": "markdown",
      "metadata": {
        "id": "Y1xQ5QQepk-l"
      },
      "source": [
        "# Clean Tweets"
      ]
    },
    {
      "cell_type": "code",
      "metadata": {
        "colab": {
          "base_uri": "https://localhost:8080/",
          "height": 423
        },
        "id": "hK0tX2bIoAyv",
        "outputId": "5ba5a290-0848-4b24-cb79-98dee6fe90e8"
      },
      "source": [
        "#Clean the Tweets text\n",
        "\n",
        "df['Tweets']=df['Tweets'].apply(cleanText)\n",
        "\n",
        "df"
      ],
      "execution_count": 95,
      "outputs": [
        {
          "output_type": "execute_result",
          "data": {
            "text/html": [
              "<div>\n",
              "<style scoped>\n",
              "    .dataframe tbody tr th:only-of-type {\n",
              "        vertical-align: middle;\n",
              "    }\n",
              "\n",
              "    .dataframe tbody tr th {\n",
              "        vertical-align: top;\n",
              "    }\n",
              "\n",
              "    .dataframe thead th {\n",
              "        text-align: right;\n",
              "    }\n",
              "</style>\n",
              "<table border=\"1\" class=\"dataframe\">\n",
              "  <thead>\n",
              "    <tr style=\"text-align: right;\">\n",
              "      <th></th>\n",
              "      <th>Tweets</th>\n",
              "    </tr>\n",
              "  </thead>\n",
              "  <tbody>\n",
              "    <tr>\n",
              "      <th>0</th>\n",
              "      <td>Only one makes it through to The Final... who ...</td>\n",
              "    </tr>\n",
              "    <tr>\n",
              "      <th>1</th>\n",
              "      <td>: Warne won 1 World Cup.\\nWarner won 2 World C...</td>\n",
              "    </tr>\n",
              "    <tr>\n",
              "      <th>2</th>\n",
              "      <td>_cricket: Rohit Sharma moves to Number 13 posi...</td>\n",
              "    </tr>\n",
              "    <tr>\n",
              "      <th>3</th>\n",
              "      <td>16 is the number of teams that qualified for t...</td>\n",
              "    </tr>\n",
              "    <tr>\n",
              "      <th>4</th>\n",
              "      <td>A special coaching event organised by  and  he...</td>\n",
              "    </tr>\n",
              "    <tr>\n",
              "      <th>...</th>\n",
              "      <td>...</td>\n",
              "    </tr>\n",
              "    <tr>\n",
              "      <th>495</th>\n",
              "      <td>I am not impressed by your cricket.\\nIdiot ....</td>\n",
              "    </tr>\n",
              "    <tr>\n",
              "      <th>496</th>\n",
              "      <td>Autumn series provides glorious glimpse of wha...</td>\n",
              "    </tr>\n",
              "    <tr>\n",
              "      <th>497</th>\n",
              "      <td>We are awaiting any recommendations from a...</td>\n",
              "    </tr>\n",
              "    <tr>\n",
              "      <th>498</th>\n",
              "      <td>: I played competitive football, rugby &amp;amp; c...</td>\n",
              "    </tr>\n",
              "    <tr>\n",
              "      <th>499</th>\n",
              "      <td>Why is nobody talking about Junior Hockey Worl...</td>\n",
              "    </tr>\n",
              "  </tbody>\n",
              "</table>\n",
              "<p>500 rows × 1 columns</p>\n",
              "</div>"
            ],
            "text/plain": [
              "                                                Tweets\n",
              "0    Only one makes it through to The Final... who ...\n",
              "1    : Warne won 1 World Cup.\\nWarner won 2 World C...\n",
              "2    _cricket: Rohit Sharma moves to Number 13 posi...\n",
              "3    16 is the number of teams that qualified for t...\n",
              "4    A special coaching event organised by  and  he...\n",
              "..                                                 ...\n",
              "495    I am not impressed by your cricket.\\nIdiot ....\n",
              "496  Autumn series provides glorious glimpse of wha...\n",
              "497      We are awaiting any recommendations from a...\n",
              "498  : I played competitive football, rugby &amp; c...\n",
              "499  Why is nobody talking about Junior Hockey Worl...\n",
              "\n",
              "[500 rows x 1 columns]"
            ]
          },
          "metadata": {},
          "execution_count": 95
        }
      ]
    },
    {
      "cell_type": "code",
      "metadata": {
        "id": "Rp2AjD6pBg02"
      },
      "source": [
        "df.to_csv(\"tweets_clean.csv\")"
      ],
      "execution_count": 96,
      "outputs": []
    },
    {
      "cell_type": "markdown",
      "metadata": {
        "id": "eJhUpQBTpOcJ"
      },
      "source": [
        "#Sentiment Analysis"
      ]
    },
    {
      "cell_type": "code",
      "metadata": {
        "id": "O_mgF6MNsvX1"
      },
      "source": [
        "df= pd.read_csv('tweets_clean.csv')"
      ],
      "execution_count": null,
      "outputs": []
    },
    {
      "cell_type": "code",
      "metadata": {
        "colab": {
          "base_uri": "https://localhost:8080/",
          "height": 423
        },
        "id": "QEkATNBhoQg8",
        "outputId": "9f27fbb9-3b98-4e9e-f127-39ab4937cab9"
      },
      "source": [
        "# Get the subjectivity and polarity of tweets\n",
        "\n",
        "# Subjectivity- [0 to 1]. More subjective means the tweet is more opinionated than fact\n",
        "# Polarity- [-1 to 1]. Positive means good, negative means bad\n",
        "\n",
        "df['Subjectivity']= df['Tweets'].apply(getSubjectivity)\n",
        "df['Polarity']=df['Tweets'].apply(getPolarity)\n",
        "\n",
        "#Display\n",
        "df"
      ],
      "execution_count": 97,
      "outputs": [
        {
          "output_type": "execute_result",
          "data": {
            "text/html": [
              "<div>\n",
              "<style scoped>\n",
              "    .dataframe tbody tr th:only-of-type {\n",
              "        vertical-align: middle;\n",
              "    }\n",
              "\n",
              "    .dataframe tbody tr th {\n",
              "        vertical-align: top;\n",
              "    }\n",
              "\n",
              "    .dataframe thead th {\n",
              "        text-align: right;\n",
              "    }\n",
              "</style>\n",
              "<table border=\"1\" class=\"dataframe\">\n",
              "  <thead>\n",
              "    <tr style=\"text-align: right;\">\n",
              "      <th></th>\n",
              "      <th>Tweets</th>\n",
              "      <th>Subjectivity</th>\n",
              "      <th>Polarity</th>\n",
              "    </tr>\n",
              "  </thead>\n",
              "  <tbody>\n",
              "    <tr>\n",
              "      <th>0</th>\n",
              "      <td>Only one makes it through to The Final... who ...</td>\n",
              "      <td>1.000000</td>\n",
              "      <td>0.000000</td>\n",
              "    </tr>\n",
              "    <tr>\n",
              "      <th>1</th>\n",
              "      <td>: Warne won 1 World Cup.\\nWarner won 2 World C...</td>\n",
              "      <td>0.400000</td>\n",
              "      <td>0.800000</td>\n",
              "    </tr>\n",
              "    <tr>\n",
              "      <th>2</th>\n",
              "      <td>_cricket: Rohit Sharma moves to Number 13 posi...</td>\n",
              "      <td>0.900000</td>\n",
              "      <td>0.500000</td>\n",
              "    </tr>\n",
              "    <tr>\n",
              "      <th>3</th>\n",
              "      <td>16 is the number of teams that qualified for t...</td>\n",
              "      <td>0.000000</td>\n",
              "      <td>0.000000</td>\n",
              "    </tr>\n",
              "    <tr>\n",
              "      <th>4</th>\n",
              "      <td>A special coaching event organised by  and  he...</td>\n",
              "      <td>0.571429</td>\n",
              "      <td>0.357143</td>\n",
              "    </tr>\n",
              "    <tr>\n",
              "      <th>...</th>\n",
              "      <td>...</td>\n",
              "      <td>...</td>\n",
              "      <td>...</td>\n",
              "    </tr>\n",
              "    <tr>\n",
              "      <th>495</th>\n",
              "      <td>I am not impressed by your cricket.\\nIdiot ....</td>\n",
              "      <td>0.900000</td>\n",
              "      <td>-0.650000</td>\n",
              "    </tr>\n",
              "    <tr>\n",
              "      <th>496</th>\n",
              "      <td>Autumn series provides glorious glimpse of wha...</td>\n",
              "      <td>0.000000</td>\n",
              "      <td>0.000000</td>\n",
              "    </tr>\n",
              "    <tr>\n",
              "      <th>497</th>\n",
              "      <td>We are awaiting any recommendations from a...</td>\n",
              "      <td>0.125000</td>\n",
              "      <td>0.000000</td>\n",
              "    </tr>\n",
              "    <tr>\n",
              "      <th>498</th>\n",
              "      <td>: I played competitive football, rugby &amp;amp; c...</td>\n",
              "      <td>0.500000</td>\n",
              "      <td>0.500000</td>\n",
              "    </tr>\n",
              "    <tr>\n",
              "      <th>499</th>\n",
              "      <td>Why is nobody talking about Junior Hockey Worl...</td>\n",
              "      <td>0.000000</td>\n",
              "      <td>0.000000</td>\n",
              "    </tr>\n",
              "  </tbody>\n",
              "</table>\n",
              "<p>500 rows × 3 columns</p>\n",
              "</div>"
            ],
            "text/plain": [
              "                                                Tweets  Subjectivity  Polarity\n",
              "0    Only one makes it through to The Final... who ...      1.000000  0.000000\n",
              "1    : Warne won 1 World Cup.\\nWarner won 2 World C...      0.400000  0.800000\n",
              "2    _cricket: Rohit Sharma moves to Number 13 posi...      0.900000  0.500000\n",
              "3    16 is the number of teams that qualified for t...      0.000000  0.000000\n",
              "4    A special coaching event organised by  and  he...      0.571429  0.357143\n",
              "..                                                 ...           ...       ...\n",
              "495    I am not impressed by your cricket.\\nIdiot ....      0.900000 -0.650000\n",
              "496  Autumn series provides glorious glimpse of wha...      0.000000  0.000000\n",
              "497      We are awaiting any recommendations from a...      0.125000  0.000000\n",
              "498  : I played competitive football, rugby &amp; c...      0.500000  0.500000\n",
              "499  Why is nobody talking about Junior Hockey Worl...      0.000000  0.000000\n",
              "\n",
              "[500 rows x 3 columns]"
            ]
          },
          "metadata": {},
          "execution_count": 97
        }
      ]
    },
    {
      "cell_type": "code",
      "metadata": {
        "colab": {
          "base_uri": "https://localhost:8080/",
          "height": 256
        },
        "id": "KdkWVm5OrhE1",
        "outputId": "5469a16d-5eed-4f07-c126-8c2288e806e6"
      },
      "source": [
        "# Plot Word Cloud\n",
        "\n",
        "allWords= ' '.join( [twts for twts in df['Tweets']] )\n",
        "wordCloud= WordCloud(width=500, height=300, random_state=21, max_font_size=119).generate(allWords)\n",
        "\n",
        "plt.imshow(wordCloud, interpolation='bilinear')\n",
        "plt.axis('off')\n",
        "plt.show()"
      ],
      "execution_count": 98,
      "outputs": [
        {
          "output_type": "display_data",
          "data": {
            "image/png": "[encoded data removed]",
            "text/plain": [
              "<Figure size 432x288 with 1 Axes>"
            ]
          },
          "metadata": {}
        }
      ]
    },
    {
      "cell_type": "code",
      "metadata": {
        "colab": {
          "base_uri": "https://localhost:8080/",
          "height": 423
        },
        "id": "ikInQa74uMdn",
        "outputId": "b98d7617-de71-4b14-e26f-73ee6c4af109"
      },
      "source": [
        "# Get Analysis\n",
        "\n",
        "df['Analysis']=df['Polarity'].apply(getAnalysis)\n",
        "\n",
        "#Display\n",
        "df"
      ],
      "execution_count": 99,
      "outputs": [
        {
          "output_type": "execute_result",
          "data": {
            "text/html": [
              "<div>\n",
              "<style scoped>\n",
              "    .dataframe tbody tr th:only-of-type {\n",
              "        vertical-align: middle;\n",
              "    }\n",
              "\n",
              "    .dataframe tbody tr th {\n",
              "        vertical-align: top;\n",
              "    }\n",
              "\n",
              "    .dataframe thead th {\n",
              "        text-align: right;\n",
              "    }\n",
              "</style>\n",
              "<table border=\"1\" class=\"dataframe\">\n",
              "  <thead>\n",
              "    <tr style=\"text-align: right;\">\n",
              "      <th></th>\n",
              "      <th>Tweets</th>\n",
              "      <th>Subjectivity</th>\n",
              "      <th>Polarity</th>\n",
              "      <th>Analysis</th>\n",
              "    </tr>\n",
              "  </thead>\n",
              "  <tbody>\n",
              "    <tr>\n",
              "      <th>0</th>\n",
              "      <td>Only one makes it through to The Final... who ...</td>\n",
              "      <td>1.000000</td>\n",
              "      <td>0.000000</td>\n",
              "      <td>Neutral</td>\n",
              "    </tr>\n",
              "    <tr>\n",
              "      <th>1</th>\n",
              "      <td>: Warne won 1 World Cup.\\nWarner won 2 World C...</td>\n",
              "      <td>0.400000</td>\n",
              "      <td>0.800000</td>\n",
              "      <td>Positive</td>\n",
              "    </tr>\n",
              "    <tr>\n",
              "      <th>2</th>\n",
              "      <td>_cricket: Rohit Sharma moves to Number 13 posi...</td>\n",
              "      <td>0.900000</td>\n",
              "      <td>0.500000</td>\n",
              "      <td>Positive</td>\n",
              "    </tr>\n",
              "    <tr>\n",
              "      <th>3</th>\n",
              "      <td>16 is the number of teams that qualified for t...</td>\n",
              "      <td>0.000000</td>\n",
              "      <td>0.000000</td>\n",
              "      <td>Neutral</td>\n",
              "    </tr>\n",
              "    <tr>\n",
              "      <th>4</th>\n",
              "      <td>A special coaching event organised by  and  he...</td>\n",
              "      <td>0.571429</td>\n",
              "      <td>0.357143</td>\n",
              "      <td>Positive</td>\n",
              "    </tr>\n",
              "    <tr>\n",
              "      <th>...</th>\n",
              "      <td>...</td>\n",
              "      <td>...</td>\n",
              "      <td>...</td>\n",
              "      <td>...</td>\n",
              "    </tr>\n",
              "    <tr>\n",
              "      <th>495</th>\n",
              "      <td>I am not impressed by your cricket.\\nIdiot ....</td>\n",
              "      <td>0.900000</td>\n",
              "      <td>-0.650000</td>\n",
              "      <td>Negative</td>\n",
              "    </tr>\n",
              "    <tr>\n",
              "      <th>496</th>\n",
              "      <td>Autumn series provides glorious glimpse of wha...</td>\n",
              "      <td>0.000000</td>\n",
              "      <td>0.000000</td>\n",
              "      <td>Neutral</td>\n",
              "    </tr>\n",
              "    <tr>\n",
              "      <th>497</th>\n",
              "      <td>We are awaiting any recommendations from a...</td>\n",
              "      <td>0.125000</td>\n",
              "      <td>0.000000</td>\n",
              "      <td>Neutral</td>\n",
              "    </tr>\n",
              "    <tr>\n",
              "      <th>498</th>\n",
              "      <td>: I played competitive football, rugby &amp;amp; c...</td>\n",
              "      <td>0.500000</td>\n",
              "      <td>0.500000</td>\n",
              "      <td>Positive</td>\n",
              "    </tr>\n",
              "    <tr>\n",
              "      <th>499</th>\n",
              "      <td>Why is nobody talking about Junior Hockey Worl...</td>\n",
              "      <td>0.000000</td>\n",
              "      <td>0.000000</td>\n",
              "      <td>Neutral</td>\n",
              "    </tr>\n",
              "  </tbody>\n",
              "</table>\n",
              "<p>500 rows × 4 columns</p>\n",
              "</div>"
            ],
            "text/plain": [
              "                                                Tweets  ...  Analysis\n",
              "0    Only one makes it through to The Final... who ...  ...   Neutral\n",
              "1    : Warne won 1 World Cup.\\nWarner won 2 World C...  ...  Positive\n",
              "2    _cricket: Rohit Sharma moves to Number 13 posi...  ...  Positive\n",
              "3    16 is the number of teams that qualified for t...  ...   Neutral\n",
              "4    A special coaching event organised by  and  he...  ...  Positive\n",
              "..                                                 ...  ...       ...\n",
              "495    I am not impressed by your cricket.\\nIdiot ....  ...  Negative\n",
              "496  Autumn series provides glorious glimpse of wha...  ...   Neutral\n",
              "497      We are awaiting any recommendations from a...  ...   Neutral\n",
              "498  : I played competitive football, rugby &amp; c...  ...  Positive\n",
              "499  Why is nobody talking about Junior Hockey Worl...  ...   Neutral\n",
              "\n",
              "[500 rows x 4 columns]"
            ]
          },
          "metadata": {},
          "execution_count": 99
        }
      ]
    },
    {
      "cell_type": "code",
      "metadata": {
        "colab": {
          "base_uri": "https://localhost:8080/",
          "height": 423
        },
        "id": "vRt3kYts7eBv",
        "outputId": "f01f2d0f-797c-4422-c63f-09f6dbcf3f10"
      },
      "source": [
        "# See whether the tweets are fact based or opinionated\n",
        "\n",
        "df['Facts']= df['Subjectivity'].apply(fact_opinion)\n",
        "\n",
        "df"
      ],
      "execution_count": 100,
      "outputs": [
        {
          "output_type": "execute_result",
          "data": {
            "text/html": [
              "<div>\n",
              "<style scoped>\n",
              "    .dataframe tbody tr th:only-of-type {\n",
              "        vertical-align: middle;\n",
              "    }\n",
              "\n",
              "    .dataframe tbody tr th {\n",
              "        vertical-align: top;\n",
              "    }\n",
              "\n",
              "    .dataframe thead th {\n",
              "        text-align: right;\n",
              "    }\n",
              "</style>\n",
              "<table border=\"1\" class=\"dataframe\">\n",
              "  <thead>\n",
              "    <tr style=\"text-align: right;\">\n",
              "      <th></th>\n",
              "      <th>Tweets</th>\n",
              "      <th>Subjectivity</th>\n",
              "      <th>Polarity</th>\n",
              "      <th>Analysis</th>\n",
              "      <th>Facts</th>\n",
              "    </tr>\n",
              "  </thead>\n",
              "  <tbody>\n",
              "    <tr>\n",
              "      <th>0</th>\n",
              "      <td>Only one makes it through to The Final... who ...</td>\n",
              "      <td>1.000000</td>\n",
              "      <td>0.000000</td>\n",
              "      <td>Neutral</td>\n",
              "      <td>Opinion</td>\n",
              "    </tr>\n",
              "    <tr>\n",
              "      <th>1</th>\n",
              "      <td>: Warne won 1 World Cup.\\nWarner won 2 World C...</td>\n",
              "      <td>0.400000</td>\n",
              "      <td>0.800000</td>\n",
              "      <td>Positive</td>\n",
              "      <td>Neutral</td>\n",
              "    </tr>\n",
              "    <tr>\n",
              "      <th>2</th>\n",
              "      <td>_cricket: Rohit Sharma moves to Number 13 posi...</td>\n",
              "      <td>0.900000</td>\n",
              "      <td>0.500000</td>\n",
              "      <td>Positive</td>\n",
              "      <td>Opinion</td>\n",
              "    </tr>\n",
              "    <tr>\n",
              "      <th>3</th>\n",
              "      <td>16 is the number of teams that qualified for t...</td>\n",
              "      <td>0.000000</td>\n",
              "      <td>0.000000</td>\n",
              "      <td>Neutral</td>\n",
              "      <td>Fact</td>\n",
              "    </tr>\n",
              "    <tr>\n",
              "      <th>4</th>\n",
              "      <td>A special coaching event organised by  and  he...</td>\n",
              "      <td>0.571429</td>\n",
              "      <td>0.357143</td>\n",
              "      <td>Positive</td>\n",
              "      <td>Neutral</td>\n",
              "    </tr>\n",
              "    <tr>\n",
              "      <th>...</th>\n",
              "      <td>...</td>\n",
              "      <td>...</td>\n",
              "      <td>...</td>\n",
              "      <td>...</td>\n",
              "      <td>...</td>\n",
              "    </tr>\n",
              "    <tr>\n",
              "      <th>495</th>\n",
              "      <td>I am not impressed by your cricket.\\nIdiot ....</td>\n",
              "      <td>0.900000</td>\n",
              "      <td>-0.650000</td>\n",
              "      <td>Negative</td>\n",
              "      <td>Opinion</td>\n",
              "    </tr>\n",
              "    <tr>\n",
              "      <th>496</th>\n",
              "      <td>Autumn series provides glorious glimpse of wha...</td>\n",
              "      <td>0.000000</td>\n",
              "      <td>0.000000</td>\n",
              "      <td>Neutral</td>\n",
              "      <td>Fact</td>\n",
              "    </tr>\n",
              "    <tr>\n",
              "      <th>497</th>\n",
              "      <td>We are awaiting any recommendations from a...</td>\n",
              "      <td>0.125000</td>\n",
              "      <td>0.000000</td>\n",
              "      <td>Neutral</td>\n",
              "      <td>Fact</td>\n",
              "    </tr>\n",
              "    <tr>\n",
              "      <th>498</th>\n",
              "      <td>: I played competitive football, rugby &amp;amp; c...</td>\n",
              "      <td>0.500000</td>\n",
              "      <td>0.500000</td>\n",
              "      <td>Positive</td>\n",
              "      <td>Neutral</td>\n",
              "    </tr>\n",
              "    <tr>\n",
              "      <th>499</th>\n",
              "      <td>Why is nobody talking about Junior Hockey Worl...</td>\n",
              "      <td>0.000000</td>\n",
              "      <td>0.000000</td>\n",
              "      <td>Neutral</td>\n",
              "      <td>Fact</td>\n",
              "    </tr>\n",
              "  </tbody>\n",
              "</table>\n",
              "<p>500 rows × 5 columns</p>\n",
              "</div>"
            ],
            "text/plain": [
              "                                                Tweets  ...    Facts\n",
              "0    Only one makes it through to The Final... who ...  ...  Opinion\n",
              "1    : Warne won 1 World Cup.\\nWarner won 2 World C...  ...  Neutral\n",
              "2    _cricket: Rohit Sharma moves to Number 13 posi...  ...  Opinion\n",
              "3    16 is the number of teams that qualified for t...  ...     Fact\n",
              "4    A special coaching event organised by  and  he...  ...  Neutral\n",
              "..                                                 ...  ...      ...\n",
              "495    I am not impressed by your cricket.\\nIdiot ....  ...  Opinion\n",
              "496  Autumn series provides glorious glimpse of wha...  ...     Fact\n",
              "497      We are awaiting any recommendations from a...  ...     Fact\n",
              "498  : I played competitive football, rugby &amp; c...  ...  Neutral\n",
              "499  Why is nobody talking about Junior Hockey Worl...  ...     Fact\n",
              "\n",
              "[500 rows x 5 columns]"
            ]
          },
          "metadata": {},
          "execution_count": 100
        }
      ]
    },
    {
      "cell_type": "code",
      "metadata": {
        "colab": {
          "base_uri": "https://localhost:8080/",
          "height": 0
        },
        "id": "Eh04DqHdzu6m",
        "outputId": "d41dccfc-42c2-477e-aee9-38ad9e00dccc"
      },
      "source": [
        "# Display all the Positive Tweets\n",
        "\n",
        "ptweets= df[df.Analysis=='Positive']\n",
        "ptweets= ptweets['Tweets']\n",
        "ptweets"
      ],
      "execution_count": 101,
      "outputs": [
        {
          "output_type": "execute_result",
          "data": {
            "text/plain": [
              "1      : Warne won 1 World Cup.\\nWarner won 2 World C...\n",
              "2      _cricket: Rohit Sharma moves to Number 13 posi...\n",
              "4      A special coaching event organised by  and  he...\n",
              "6      : OTD in 1976.  3-0 . A team full of 1974 Worl...\n",
              "7      Abu Dhabi T10 is in full-swing as the greatest...\n",
              "                             ...                        \n",
              "490    : 🇮🇳 THE GABBA VICTORY\\n[ A THREAD ]\\n\\nAustra...\n",
              "491    _Odisha: Wish the Indian junior hockey team al...\n",
              "493    : OnThisDay in 2009\\n\\nUmar Akmal, playing his...\n",
              "494    : Getting match ready 👌 👌\\n\\nTeamIndia get int...\n",
              "498    : I played competitive football, rugby &amp; c...\n",
              "Name: Tweets, Length: 248, dtype: object"
            ]
          },
          "metadata": {},
          "execution_count": 101
        }
      ]
    },
    {
      "cell_type": "code",
      "metadata": {
        "colab": {
          "base_uri": "https://localhost:8080/",
          "height": 0
        },
        "id": "EVWZ4agI1h0G",
        "outputId": "b24fb793-bf7c-483e-d9ab-06777bb0c1a4"
      },
      "source": [
        "# Display all the Negative Tweets\n",
        "\n",
        "ntweets= df[df.Analysis=='Negative']\n",
        "ntweets= ntweets['Tweets']\n",
        "ntweets"
      ],
      "execution_count": 102,
      "outputs": [
        {
          "output_type": "execute_result",
          "data": {
            "text/plain": [
              "9      _Mystical:  I stopped watching these grown chi...\n",
              "27     _don_: Rohit Sharma moves to 13 rank in icc Me...\n",
              "31     : Highest % of team runs for India in Tests at...\n",
              "36     _venkat: Rohit Sharma to be blamed for this fo...\n",
              "39     Thank God you knocked 20 balls off the short f...\n",
              "42     : Expected, was never leaving the European Cha...\n",
              "45     : Highest Test Average at Home:-\\n[min. 1500 r...\n",
              "58     AjinkyaRahane was not amused with questions re...\n",
              "60     Windies is very near to break the Indian recor...\n",
              "72     There’ll be a few of the  family in attendance...\n",
              "75     _se_hai: Dear    either ensure transparency in...\n",
              "80      _robin I couldn’t agree more Nick and hate to...\n",
              "87     : Highest Test Average at Home:-\\n[min. 1500 r...\n",
              "95     : 🇳🇱 Mathieu van der Poel and 🇧🇪 Wout van Aert...\n",
              "117    _49: I think his HS of 202 is against Australi...\n",
              "121    : Fifa football conference today for clubs and...\n",
              "122    ***1977 Albums World Cup Tournament****\\n\\nGRO...\n",
              "132    Quote of the day: Don’t ask difficult question...\n",
              "142    : Virat Kohli in 2021:\\n\\n- Out of top 5️⃣ Tes...\n",
              "171    _khen _freak_9  Beeter you go and play oh sorr...\n",
              "185    Hafeez stepping down for Pak series in which h...\n",
              "197    __za:  Bafana didn’t fail to qualify they lost...\n",
              "219    : Kya Drama laga rakha hai Cricket Australia n...\n",
              "224    : There’ll be a few of the  family in attendan...\n",
              "232    _18: A Random Thread on Virat Kohli Performanc...\n",
              "239    : Highest % of team runs for India in Tests at...\n",
              "244    : Former cricketer and commentator Ian Smith i...\n",
              "254    Ind vs NZ first Test | Spinners hold the key f...\n",
              "255    : Virat Kohli in 2021:\\n\\n- Out of top 5️⃣ Tes...\n",
              "264                 Ind vs NZ first Test tough to crack \n",
              "271    : Hindi Cricket Commentary is shit. Mostly the...\n",
              "293    _45: Highest % of team runs for India in Tests...\n",
              "296     Muyise akabbo oba it's too late we can't make it\n",
              "299    : Highest % of team runs for India in Tests at...\n",
              "301    _45: Highest % of team runs for India in Tests...\n",
              "315    : Dr Hilary say hardly affects anyone with sid...\n",
              "318       _morikawa  Bloody loved you taking about da...\n",
              "337     y this sudden Virat Kohli hating fake behavio...\n",
              "343     Blatters corruption led to this \"World Cup\" h...\n",
              "368    __: Michael Vaughan will not have role in BBC'...\n",
              "370    : Highest % of team runs for India in Tests at...\n",
              "384    : Funnily enough if you add this up you could ...\n",
              "386    __: Michael Vaughan will not have role in BBC'...\n",
              "403    6 years it took, sextortion is complicated!\\nT...\n",
              "423    _ash1: Kitni flat pitches hoti thi uss time pe...\n",
              "467     As champions, it seems right that England hos...\n",
              "484    some reason 😂 something stupid like the Bradfo...\n",
              "485                 Ind vs NZ first Test tough to crack \n",
              "492     Reason why non test match bowlers shouldn't b...\n",
              "495      I am not impressed by your cricket.\\nIdiot ....\n",
              "Name: Tweets, dtype: object"
            ]
          },
          "metadata": {},
          "execution_count": 102
        }
      ]
    },
    {
      "cell_type": "code",
      "metadata": {
        "colab": {
          "base_uri": "https://localhost:8080/",
          "height": 441
        },
        "id": "wpjlKq2K4v0i",
        "outputId": "49bcd24f-7b1e-473c-cc0c-b685a3edd656"
      },
      "source": [
        "# Plot the sentiment analysis\n",
        "\n",
        "fig = plt.figure(figsize=(8,6))\n",
        "plt.scatter(df['Polarity'],df['Subjectivity'])\n",
        "plt.title(\"Sentiment Analysis\")\n",
        "plt.xlabel(\"Polarity\")\n",
        "plt.ylabel(\"Subjectivity\")\n",
        "plt.show()"
      ],
      "execution_count": 103,
      "outputs": [
        {
          "output_type": "display_data",
          "data": {
            "image/png": "[encoded data removed]",
            "text/plain": [
              "<Figure size 576x432 with 1 Axes>"
            ]
          },
          "metadata": {}
        }
      ]
    },
    {
      "cell_type": "code",
      "metadata": {
        "colab": {
          "base_uri": "https://localhost:8080/",
          "height": 0
        },
        "id": "7K7t4Mfj5fGU",
        "outputId": "90a53924-6390-4576-8693-76abadd3d089"
      },
      "source": [
        "# Visualise the percentage of positive and negative tweets\n",
        "\n",
        "pos = (ptweets.shape[0]/df.shape[0])*100\n",
        "neg = (ntweets.shape[0]/df.shape[0])*100\n",
        "\n",
        "print(\"Positive: \"+ str(pos)+ \"%\\nNegative: \"+ str(neg))"
      ],
      "execution_count": 104,
      "outputs": [
        {
          "output_type": "stream",
          "name": "stdout",
          "text": [
            "Positive: 49.6%\n",
            "Negative: 10.0\n"
          ]
        }
      ]
    },
    {
      "cell_type": "code",
      "metadata": {
        "colab": {
          "base_uri": "https://localhost:8080/",
          "height": 490
        },
        "id": "KEXymGco6BsS",
        "outputId": "5ae55a27-0c72-4754-bee0-cdf976392d2d"
      },
      "source": [
        "fig= plt.figure(figsize=(8,6))\n",
        "df['Analysis'].value_counts().plot(kind='bar')\n",
        "plt.title(\"Analysis of kind of tweets\")\n",
        "plt.xlabel(\"Sentiment\")\n",
        "plt.ylabel(\"Count\")\n",
        "plt.show()"
      ],
      "execution_count": 105,
      "outputs": [
        {
          "output_type": "display_data",
          "data": {
            "image/png": "[encoded data removed]",
            "text/plain": [
              "<Figure size 576x432 with 1 Axes>"
            ]
          },
          "metadata": {}
        }
      ]
    },
    {
      "cell_type": "code",
      "metadata": {
        "colab": {
          "base_uri": "https://localhost:8080/",
          "height": 481
        },
        "id": "QXfBlgqL8BBX",
        "outputId": "4589d846-633f-4fe5-d667-9e905a45afcb"
      },
      "source": [
        "# Visualise the number of tweets that are factual vs the tweets that are biased\n",
        "\n",
        "fig= plt.figure(figsize=(8,6))\n",
        "df['Facts'].value_counts().plot(kind='bar')\n",
        "plt.title(\"Bias in tweets- Rumour Analysis\")\n",
        "plt.xlabel(\"Fact or Opinion\")\n",
        "plt.ylabel(\"Count\")\n",
        "plt.show()"
      ],
      "execution_count": 106,
      "outputs": [
        {
          "output_type": "display_data",
          "data": {
            "image/png": "[encoded data removed]",
            "text/plain": [
              "<Figure size 576x432 with 1 Axes>"
            ]
          },
          "metadata": {}
        }
      ]
    },
    {
      "cell_type": "code",
      "metadata": {
        "id": "5nN7weO_s97Q"
      },
      "source": [
        "df.to_csv('tweets_data.csv')"
      ],
      "execution_count": 107,
      "outputs": []
    },
    {
      "cell_type": "code",
      "metadata": {
        "id": "I8-GKASk2m5X"
      },
      "source": [
        ""
      ],
      "execution_count": null,
      "outputs": []
    }
  ]
}